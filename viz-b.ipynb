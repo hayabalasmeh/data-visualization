{
 "cells": [
  {
   "cell_type": "code",
   "execution_count": 2,
   "source": [
    "import matplotlib.pyplot as plt\n",
    "import seaborn as sns\n",
    "import pandas as pd"
   ],
   "outputs": [],
   "metadata": {}
  },
  {
   "cell_type": "markdown",
   "source": [
    "## We are searching for a relation between the amount of the bill and the tips"
   ],
   "metadata": {}
  },
  {
   "cell_type": "code",
   "execution_count": 3,
   "source": [
    "bill_with_tip = pd.read_csv('./tips.csv')\n",
    "bill_with_tip"
   ],
   "outputs": [
    {
     "output_type": "execute_result",
     "data": {
      "text/plain": [
       "    Bill  Tips\n",
       "0     10     0\n",
       "1      2     0\n",
       "2     32     6\n",
       "3     43     8\n",
       "4     12     1\n",
       "5     15     0\n",
       "6      6     0\n",
       "7      5     0\n",
       "8      7     0\n",
       "9      3     0\n",
       "10    19     0\n",
       "11    20     0\n",
       "12    10     4\n",
       "13    34     5\n",
       "14    23     3\n",
       "15    34     2\n",
       "16    54     1\n",
       "17    65     4\n",
       "18    76     0\n",
       "19    23     0\n",
       "20    12     0\n",
       "21    89     0"
      ],
      "text/html": [
       "<div>\n",
       "<style scoped>\n",
       "    .dataframe tbody tr th:only-of-type {\n",
       "        vertical-align: middle;\n",
       "    }\n",
       "\n",
       "    .dataframe tbody tr th {\n",
       "        vertical-align: top;\n",
       "    }\n",
       "\n",
       "    .dataframe thead th {\n",
       "        text-align: right;\n",
       "    }\n",
       "</style>\n",
       "<table border=\"1\" class=\"dataframe\">\n",
       "  <thead>\n",
       "    <tr style=\"text-align: right;\">\n",
       "      <th></th>\n",
       "      <th>Bill</th>\n",
       "      <th>Tips</th>\n",
       "    </tr>\n",
       "  </thead>\n",
       "  <tbody>\n",
       "    <tr>\n",
       "      <th>0</th>\n",
       "      <td>10</td>\n",
       "      <td>0</td>\n",
       "    </tr>\n",
       "    <tr>\n",
       "      <th>1</th>\n",
       "      <td>2</td>\n",
       "      <td>0</td>\n",
       "    </tr>\n",
       "    <tr>\n",
       "      <th>2</th>\n",
       "      <td>32</td>\n",
       "      <td>6</td>\n",
       "    </tr>\n",
       "    <tr>\n",
       "      <th>3</th>\n",
       "      <td>43</td>\n",
       "      <td>8</td>\n",
       "    </tr>\n",
       "    <tr>\n",
       "      <th>4</th>\n",
       "      <td>12</td>\n",
       "      <td>1</td>\n",
       "    </tr>\n",
       "    <tr>\n",
       "      <th>5</th>\n",
       "      <td>15</td>\n",
       "      <td>0</td>\n",
       "    </tr>\n",
       "    <tr>\n",
       "      <th>6</th>\n",
       "      <td>6</td>\n",
       "      <td>0</td>\n",
       "    </tr>\n",
       "    <tr>\n",
       "      <th>7</th>\n",
       "      <td>5</td>\n",
       "      <td>0</td>\n",
       "    </tr>\n",
       "    <tr>\n",
       "      <th>8</th>\n",
       "      <td>7</td>\n",
       "      <td>0</td>\n",
       "    </tr>\n",
       "    <tr>\n",
       "      <th>9</th>\n",
       "      <td>3</td>\n",
       "      <td>0</td>\n",
       "    </tr>\n",
       "    <tr>\n",
       "      <th>10</th>\n",
       "      <td>19</td>\n",
       "      <td>0</td>\n",
       "    </tr>\n",
       "    <tr>\n",
       "      <th>11</th>\n",
       "      <td>20</td>\n",
       "      <td>0</td>\n",
       "    </tr>\n",
       "    <tr>\n",
       "      <th>12</th>\n",
       "      <td>10</td>\n",
       "      <td>4</td>\n",
       "    </tr>\n",
       "    <tr>\n",
       "      <th>13</th>\n",
       "      <td>34</td>\n",
       "      <td>5</td>\n",
       "    </tr>\n",
       "    <tr>\n",
       "      <th>14</th>\n",
       "      <td>23</td>\n",
       "      <td>3</td>\n",
       "    </tr>\n",
       "    <tr>\n",
       "      <th>15</th>\n",
       "      <td>34</td>\n",
       "      <td>2</td>\n",
       "    </tr>\n",
       "    <tr>\n",
       "      <th>16</th>\n",
       "      <td>54</td>\n",
       "      <td>1</td>\n",
       "    </tr>\n",
       "    <tr>\n",
       "      <th>17</th>\n",
       "      <td>65</td>\n",
       "      <td>4</td>\n",
       "    </tr>\n",
       "    <tr>\n",
       "      <th>18</th>\n",
       "      <td>76</td>\n",
       "      <td>0</td>\n",
       "    </tr>\n",
       "    <tr>\n",
       "      <th>19</th>\n",
       "      <td>23</td>\n",
       "      <td>0</td>\n",
       "    </tr>\n",
       "    <tr>\n",
       "      <th>20</th>\n",
       "      <td>12</td>\n",
       "      <td>0</td>\n",
       "    </tr>\n",
       "    <tr>\n",
       "      <th>21</th>\n",
       "      <td>89</td>\n",
       "      <td>0</td>\n",
       "    </tr>\n",
       "  </tbody>\n",
       "</table>\n",
       "</div>"
      ]
     },
     "metadata": {},
     "execution_count": 3
    }
   ],
   "metadata": {}
  },
  {
   "cell_type": "code",
   "execution_count": 4,
   "source": [
    "sns.set()"
   ],
   "outputs": [],
   "metadata": {}
  },
  {
   "cell_type": "code",
   "execution_count": 5,
   "source": [
    "sns.lmplot(x=\"Tips\",y=\"Bill\",data=bill_with_tip)"
   ],
   "outputs": [
    {
     "output_type": "execute_result",
     "data": {
      "text/plain": [
       "<seaborn.axisgrid.FacetGrid at 0x7fe116878e20>"
      ]
     },
     "metadata": {},
     "execution_count": 5
    },
    {
     "output_type": "display_data",
     "data": {
      "text/plain": [
       "<Figure size 360x360 with 1 Axes>"
      ],
      "image/svg+xml": "<?xml version=\"1.0\" encoding=\"utf-8\" standalone=\"no\"?>\n<!DOCTYPE svg PUBLIC \"-//W3C//DTD SVG 1.1//EN\"\n  \"http://www.w3.org/Graphics/SVG/1.1/DTD/svg11.dtd\">\n<svg height=\"364.739687pt\" version=\"1.1\" viewBox=\"0 0 364.090625 364.739687\" width=\"364.090625pt\" xmlns=\"http://www.w3.org/2000/svg\" xmlns:xlink=\"http://www.w3.org/1999/xlink\">\n <metadata>\n  <rdf:RDF xmlns:cc=\"http://creativecommons.org/ns#\" xmlns:dc=\"http://purl.org/dc/elements/1.1/\" xmlns:rdf=\"http://www.w3.org/1999/02/22-rdf-syntax-ns#\">\n   <cc:Work>\n    <dc:type rdf:resource=\"http://purl.org/dc/dcmitype/StillImage\"/>\n    <dc:date>2021-08-11T18:57:51.994757</dc:date>\n    <dc:format>image/svg+xml</dc:format>\n    <dc:creator>\n     <cc:Agent>\n      <dc:title>Matplotlib v3.4.2, https://matplotlib.org/</dc:title>\n     </cc:Agent>\n    </dc:creator>\n   </cc:Work>\n  </rdf:RDF>\n </metadata>\n <defs>\n  <style type=\"text/css\">*{stroke-linecap:butt;stroke-linejoin:round;}</style>\n </defs>\n <g id=\"figure_1\">\n  <g id=\"patch_1\">\n   <path d=\"M 0 364.739687 \nL 364.090625 364.739687 \nL 364.090625 -0 \nL 0 -0 \nz\n\" style=\"fill:#ffffff;\"/>\n  </g>\n  <g id=\"axes_1\">\n   <g id=\"patch_2\">\n    <path d=\"M 46.31125 321.78 \nL 353.39125 321.78 \nL 353.39125 7.2 \nL 46.31125 7.2 \nz\n\" style=\"fill:#eaeaf2;\"/>\n   </g>\n   <g id=\"matplotlib.axis_1\">\n    <g id=\"xtick_1\">\n     <g id=\"line2d_1\">\n      <path clip-path=\"url(#p199ea369b6)\" d=\"M 46.31125 321.78 \nL 46.31125 7.2 \n\" style=\"fill:none;stroke:#ffffff;stroke-linecap:round;\"/>\n     </g>\n     <g id=\"text_1\">\n      <!-- 0 -->\n      <g style=\"fill:#262626;\" transform=\"translate(42.811875 339.638281)scale(0.11 -0.11)\">\n       <defs>\n        <path d=\"M 2034 4250 \nQ 1547 4250 1301 3770 \nQ 1056 3291 1056 2328 \nQ 1056 1369 1301 889 \nQ 1547 409 2034 409 \nQ 2525 409 2770 889 \nQ 3016 1369 3016 2328 \nQ 3016 3291 2770 3770 \nQ 2525 4250 2034 4250 \nz\nM 2034 4750 \nQ 2819 4750 3233 4129 \nQ 3647 3509 3647 2328 \nQ 3647 1150 3233 529 \nQ 2819 -91 2034 -91 \nQ 1250 -91 836 529 \nQ 422 1150 422 2328 \nQ 422 3509 836 4129 \nQ 1250 4750 2034 4750 \nz\n\" id=\"DejaVuSans-30\" transform=\"scale(0.015625)\"/>\n       </defs>\n       <use xlink:href=\"#DejaVuSans-30\"/>\n      </g>\n     </g>\n    </g>\n    <g id=\"xtick_2\">\n     <g id=\"line2d_2\">\n      <path clip-path=\"url(#p199ea369b6)\" d=\"M 84.69625 321.78 \nL 84.69625 7.2 \n\" style=\"fill:none;stroke:#ffffff;stroke-linecap:round;\"/>\n     </g>\n     <g id=\"text_2\">\n      <!-- 1 -->\n      <g style=\"fill:#262626;\" transform=\"translate(81.196875 339.638281)scale(0.11 -0.11)\">\n       <defs>\n        <path d=\"M 794 531 \nL 1825 531 \nL 1825 4091 \nL 703 3866 \nL 703 4441 \nL 1819 4666 \nL 2450 4666 \nL 2450 531 \nL 3481 531 \nL 3481 0 \nL 794 0 \nL 794 531 \nz\n\" id=\"DejaVuSans-31\" transform=\"scale(0.015625)\"/>\n       </defs>\n       <use xlink:href=\"#DejaVuSans-31\"/>\n      </g>\n     </g>\n    </g>\n    <g id=\"xtick_3\">\n     <g id=\"line2d_3\">\n      <path clip-path=\"url(#p199ea369b6)\" d=\"M 123.08125 321.78 \nL 123.08125 7.2 \n\" style=\"fill:none;stroke:#ffffff;stroke-linecap:round;\"/>\n     </g>\n     <g id=\"text_3\">\n      <!-- 2 -->\n      <g style=\"fill:#262626;\" transform=\"translate(119.581875 339.638281)scale(0.11 -0.11)\">\n       <defs>\n        <path d=\"M 1228 531 \nL 3431 531 \nL 3431 0 \nL 469 0 \nL 469 531 \nQ 828 903 1448 1529 \nQ 2069 2156 2228 2338 \nQ 2531 2678 2651 2914 \nQ 2772 3150 2772 3378 \nQ 2772 3750 2511 3984 \nQ 2250 4219 1831 4219 \nQ 1534 4219 1204 4116 \nQ 875 4013 500 3803 \nL 500 4441 \nQ 881 4594 1212 4672 \nQ 1544 4750 1819 4750 \nQ 2544 4750 2975 4387 \nQ 3406 4025 3406 3419 \nQ 3406 3131 3298 2873 \nQ 3191 2616 2906 2266 \nQ 2828 2175 2409 1742 \nQ 1991 1309 1228 531 \nz\n\" id=\"DejaVuSans-32\" transform=\"scale(0.015625)\"/>\n       </defs>\n       <use xlink:href=\"#DejaVuSans-32\"/>\n      </g>\n     </g>\n    </g>\n    <g id=\"xtick_4\">\n     <g id=\"line2d_4\">\n      <path clip-path=\"url(#p199ea369b6)\" d=\"M 161.46625 321.78 \nL 161.46625 7.2 \n\" style=\"fill:none;stroke:#ffffff;stroke-linecap:round;\"/>\n     </g>\n     <g id=\"text_4\">\n      <!-- 3 -->\n      <g style=\"fill:#262626;\" transform=\"translate(157.966875 339.638281)scale(0.11 -0.11)\">\n       <defs>\n        <path d=\"M 2597 2516 \nQ 3050 2419 3304 2112 \nQ 3559 1806 3559 1356 \nQ 3559 666 3084 287 \nQ 2609 -91 1734 -91 \nQ 1441 -91 1130 -33 \nQ 819 25 488 141 \nL 488 750 \nQ 750 597 1062 519 \nQ 1375 441 1716 441 \nQ 2309 441 2620 675 \nQ 2931 909 2931 1356 \nQ 2931 1769 2642 2001 \nQ 2353 2234 1838 2234 \nL 1294 2234 \nL 1294 2753 \nL 1863 2753 \nQ 2328 2753 2575 2939 \nQ 2822 3125 2822 3475 \nQ 2822 3834 2567 4026 \nQ 2313 4219 1838 4219 \nQ 1578 4219 1281 4162 \nQ 984 4106 628 3988 \nL 628 4550 \nQ 988 4650 1302 4700 \nQ 1616 4750 1894 4750 \nQ 2613 4750 3031 4423 \nQ 3450 4097 3450 3541 \nQ 3450 3153 3228 2886 \nQ 3006 2619 2597 2516 \nz\n\" id=\"DejaVuSans-33\" transform=\"scale(0.015625)\"/>\n       </defs>\n       <use xlink:href=\"#DejaVuSans-33\"/>\n      </g>\n     </g>\n    </g>\n    <g id=\"xtick_5\">\n     <g id=\"line2d_5\">\n      <path clip-path=\"url(#p199ea369b6)\" d=\"M 199.85125 321.78 \nL 199.85125 7.2 \n\" style=\"fill:none;stroke:#ffffff;stroke-linecap:round;\"/>\n     </g>\n     <g id=\"text_5\">\n      <!-- 4 -->\n      <g style=\"fill:#262626;\" transform=\"translate(196.351875 339.638281)scale(0.11 -0.11)\">\n       <defs>\n        <path d=\"M 2419 4116 \nL 825 1625 \nL 2419 1625 \nL 2419 4116 \nz\nM 2253 4666 \nL 3047 4666 \nL 3047 1625 \nL 3713 1625 \nL 3713 1100 \nL 3047 1100 \nL 3047 0 \nL 2419 0 \nL 2419 1100 \nL 313 1100 \nL 313 1709 \nL 2253 4666 \nz\n\" id=\"DejaVuSans-34\" transform=\"scale(0.015625)\"/>\n       </defs>\n       <use xlink:href=\"#DejaVuSans-34\"/>\n      </g>\n     </g>\n    </g>\n    <g id=\"xtick_6\">\n     <g id=\"line2d_6\">\n      <path clip-path=\"url(#p199ea369b6)\" d=\"M 238.23625 321.78 \nL 238.23625 7.2 \n\" style=\"fill:none;stroke:#ffffff;stroke-linecap:round;\"/>\n     </g>\n     <g id=\"text_6\">\n      <!-- 5 -->\n      <g style=\"fill:#262626;\" transform=\"translate(234.736875 339.638281)scale(0.11 -0.11)\">\n       <defs>\n        <path d=\"M 691 4666 \nL 3169 4666 \nL 3169 4134 \nL 1269 4134 \nL 1269 2991 \nQ 1406 3038 1543 3061 \nQ 1681 3084 1819 3084 \nQ 2600 3084 3056 2656 \nQ 3513 2228 3513 1497 \nQ 3513 744 3044 326 \nQ 2575 -91 1722 -91 \nQ 1428 -91 1123 -41 \nQ 819 9 494 109 \nL 494 744 \nQ 775 591 1075 516 \nQ 1375 441 1709 441 \nQ 2250 441 2565 725 \nQ 2881 1009 2881 1497 \nQ 2881 1984 2565 2268 \nQ 2250 2553 1709 2553 \nQ 1456 2553 1204 2497 \nQ 953 2441 691 2322 \nL 691 4666 \nz\n\" id=\"DejaVuSans-35\" transform=\"scale(0.015625)\"/>\n       </defs>\n       <use xlink:href=\"#DejaVuSans-35\"/>\n      </g>\n     </g>\n    </g>\n    <g id=\"xtick_7\">\n     <g id=\"line2d_7\">\n      <path clip-path=\"url(#p199ea369b6)\" d=\"M 276.62125 321.78 \nL 276.62125 7.2 \n\" style=\"fill:none;stroke:#ffffff;stroke-linecap:round;\"/>\n     </g>\n     <g id=\"text_7\">\n      <!-- 6 -->\n      <g style=\"fill:#262626;\" transform=\"translate(273.121875 339.638281)scale(0.11 -0.11)\">\n       <defs>\n        <path d=\"M 2113 2584 \nQ 1688 2584 1439 2293 \nQ 1191 2003 1191 1497 \nQ 1191 994 1439 701 \nQ 1688 409 2113 409 \nQ 2538 409 2786 701 \nQ 3034 994 3034 1497 \nQ 3034 2003 2786 2293 \nQ 2538 2584 2113 2584 \nz\nM 3366 4563 \nL 3366 3988 \nQ 3128 4100 2886 4159 \nQ 2644 4219 2406 4219 \nQ 1781 4219 1451 3797 \nQ 1122 3375 1075 2522 \nQ 1259 2794 1537 2939 \nQ 1816 3084 2150 3084 \nQ 2853 3084 3261 2657 \nQ 3669 2231 3669 1497 \nQ 3669 778 3244 343 \nQ 2819 -91 2113 -91 \nQ 1303 -91 875 529 \nQ 447 1150 447 2328 \nQ 447 3434 972 4092 \nQ 1497 4750 2381 4750 \nQ 2619 4750 2861 4703 \nQ 3103 4656 3366 4563 \nz\n\" id=\"DejaVuSans-36\" transform=\"scale(0.015625)\"/>\n       </defs>\n       <use xlink:href=\"#DejaVuSans-36\"/>\n      </g>\n     </g>\n    </g>\n    <g id=\"xtick_8\">\n     <g id=\"line2d_8\">\n      <path clip-path=\"url(#p199ea369b6)\" d=\"M 315.00625 321.78 \nL 315.00625 7.2 \n\" style=\"fill:none;stroke:#ffffff;stroke-linecap:round;\"/>\n     </g>\n     <g id=\"text_8\">\n      <!-- 7 -->\n      <g style=\"fill:#262626;\" transform=\"translate(311.506875 339.638281)scale(0.11 -0.11)\">\n       <defs>\n        <path d=\"M 525 4666 \nL 3525 4666 \nL 3525 4397 \nL 1831 0 \nL 1172 0 \nL 2766 4134 \nL 525 4134 \nL 525 4666 \nz\n\" id=\"DejaVuSans-37\" transform=\"scale(0.015625)\"/>\n       </defs>\n       <use xlink:href=\"#DejaVuSans-37\"/>\n      </g>\n     </g>\n    </g>\n    <g id=\"xtick_9\">\n     <g id=\"line2d_9\">\n      <path clip-path=\"url(#p199ea369b6)\" d=\"M 353.39125 321.78 \nL 353.39125 7.2 \n\" style=\"fill:none;stroke:#ffffff;stroke-linecap:round;\"/>\n     </g>\n     <g id=\"text_9\">\n      <!-- 8 -->\n      <g style=\"fill:#262626;\" transform=\"translate(349.891875 339.638281)scale(0.11 -0.11)\">\n       <defs>\n        <path d=\"M 2034 2216 \nQ 1584 2216 1326 1975 \nQ 1069 1734 1069 1313 \nQ 1069 891 1326 650 \nQ 1584 409 2034 409 \nQ 2484 409 2743 651 \nQ 3003 894 3003 1313 \nQ 3003 1734 2745 1975 \nQ 2488 2216 2034 2216 \nz\nM 1403 2484 \nQ 997 2584 770 2862 \nQ 544 3141 544 3541 \nQ 544 4100 942 4425 \nQ 1341 4750 2034 4750 \nQ 2731 4750 3128 4425 \nQ 3525 4100 3525 3541 \nQ 3525 3141 3298 2862 \nQ 3072 2584 2669 2484 \nQ 3125 2378 3379 2068 \nQ 3634 1759 3634 1313 \nQ 3634 634 3220 271 \nQ 2806 -91 2034 -91 \nQ 1263 -91 848 271 \nQ 434 634 434 1313 \nQ 434 1759 690 2068 \nQ 947 2378 1403 2484 \nz\nM 1172 3481 \nQ 1172 3119 1398 2916 \nQ 1625 2713 2034 2713 \nQ 2441 2713 2670 2916 \nQ 2900 3119 2900 3481 \nQ 2900 3844 2670 4047 \nQ 2441 4250 2034 4250 \nQ 1625 4250 1398 4047 \nQ 1172 3844 1172 3481 \nz\n\" id=\"DejaVuSans-38\" transform=\"scale(0.015625)\"/>\n       </defs>\n       <use xlink:href=\"#DejaVuSans-38\"/>\n      </g>\n     </g>\n    </g>\n    <g id=\"text_10\">\n     <!-- Tips -->\n     <g style=\"fill:#262626;\" transform=\"translate(187.7725 355.044062)scale(0.12 -0.12)\">\n      <defs>\n       <path d=\"M -19 4666 \nL 3928 4666 \nL 3928 4134 \nL 2272 4134 \nL 2272 0 \nL 1638 0 \nL 1638 4134 \nL -19 4134 \nL -19 4666 \nz\n\" id=\"DejaVuSans-54\" transform=\"scale(0.015625)\"/>\n       <path d=\"M 603 3500 \nL 1178 3500 \nL 1178 0 \nL 603 0 \nL 603 3500 \nz\nM 603 4863 \nL 1178 4863 \nL 1178 4134 \nL 603 4134 \nL 603 4863 \nz\n\" id=\"DejaVuSans-69\" transform=\"scale(0.015625)\"/>\n       <path d=\"M 1159 525 \nL 1159 -1331 \nL 581 -1331 \nL 581 3500 \nL 1159 3500 \nL 1159 2969 \nQ 1341 3281 1617 3432 \nQ 1894 3584 2278 3584 \nQ 2916 3584 3314 3078 \nQ 3713 2572 3713 1747 \nQ 3713 922 3314 415 \nQ 2916 -91 2278 -91 \nQ 1894 -91 1617 61 \nQ 1341 213 1159 525 \nz\nM 3116 1747 \nQ 3116 2381 2855 2742 \nQ 2594 3103 2138 3103 \nQ 1681 3103 1420 2742 \nQ 1159 2381 1159 1747 \nQ 1159 1113 1420 752 \nQ 1681 391 2138 391 \nQ 2594 391 2855 752 \nQ 3116 1113 3116 1747 \nz\n\" id=\"DejaVuSans-70\" transform=\"scale(0.015625)\"/>\n       <path d=\"M 2834 3397 \nL 2834 2853 \nQ 2591 2978 2328 3040 \nQ 2066 3103 1784 3103 \nQ 1356 3103 1142 2972 \nQ 928 2841 928 2578 \nQ 928 2378 1081 2264 \nQ 1234 2150 1697 2047 \nL 1894 2003 \nQ 2506 1872 2764 1633 \nQ 3022 1394 3022 966 \nQ 3022 478 2636 193 \nQ 2250 -91 1575 -91 \nQ 1294 -91 989 -36 \nQ 684 19 347 128 \nL 347 722 \nQ 666 556 975 473 \nQ 1284 391 1588 391 \nQ 1994 391 2212 530 \nQ 2431 669 2431 922 \nQ 2431 1156 2273 1281 \nQ 2116 1406 1581 1522 \nL 1381 1569 \nQ 847 1681 609 1914 \nQ 372 2147 372 2553 \nQ 372 3047 722 3315 \nQ 1072 3584 1716 3584 \nQ 2034 3584 2315 3537 \nQ 2597 3491 2834 3397 \nz\n\" id=\"DejaVuSans-73\" transform=\"scale(0.015625)\"/>\n      </defs>\n      <use xlink:href=\"#DejaVuSans-54\"/>\n      <use x=\"57.958984\" xlink:href=\"#DejaVuSans-69\"/>\n      <use x=\"85.742188\" xlink:href=\"#DejaVuSans-70\"/>\n      <use x=\"149.21875\" xlink:href=\"#DejaVuSans-73\"/>\n     </g>\n    </g>\n   </g>\n   <g id=\"matplotlib.axis_2\">\n    <g id=\"ytick_1\">\n     <g id=\"line2d_10\">\n      <path clip-path=\"url(#p199ea369b6)\" d=\"M 46.31125 314.055204 \nL 353.39125 314.055204 \n\" style=\"fill:none;stroke:#ffffff;stroke-linecap:round;\"/>\n     </g>\n     <g id=\"text_11\">\n      <!-- 0 -->\n      <g style=\"fill:#262626;\" transform=\"translate(29.8125 318.234344)scale(0.11 -0.11)\">\n       <use xlink:href=\"#DejaVuSans-30\"/>\n      </g>\n     </g>\n    </g>\n    <g id=\"ytick_2\">\n     <g id=\"line2d_11\">\n      <path clip-path=\"url(#p199ea369b6)\" d=\"M 46.31125 248.312257 \nL 353.39125 248.312257 \n\" style=\"fill:none;stroke:#ffffff;stroke-linecap:round;\"/>\n     </g>\n     <g id=\"text_12\">\n      <!-- 20 -->\n      <g style=\"fill:#262626;\" transform=\"translate(22.81375 252.491398)scale(0.11 -0.11)\">\n       <use xlink:href=\"#DejaVuSans-32\"/>\n       <use x=\"63.623047\" xlink:href=\"#DejaVuSans-30\"/>\n      </g>\n     </g>\n    </g>\n    <g id=\"ytick_3\">\n     <g id=\"line2d_12\">\n      <path clip-path=\"url(#p199ea369b6)\" d=\"M 46.31125 182.56931 \nL 353.39125 182.56931 \n\" style=\"fill:none;stroke:#ffffff;stroke-linecap:round;\"/>\n     </g>\n     <g id=\"text_13\">\n      <!-- 40 -->\n      <g style=\"fill:#262626;\" transform=\"translate(22.81375 186.748451)scale(0.11 -0.11)\">\n       <use xlink:href=\"#DejaVuSans-34\"/>\n       <use x=\"63.623047\" xlink:href=\"#DejaVuSans-30\"/>\n      </g>\n     </g>\n    </g>\n    <g id=\"ytick_4\">\n     <g id=\"line2d_13\">\n      <path clip-path=\"url(#p199ea369b6)\" d=\"M 46.31125 116.826364 \nL 353.39125 116.826364 \n\" style=\"fill:none;stroke:#ffffff;stroke-linecap:round;\"/>\n     </g>\n     <g id=\"text_14\">\n      <!-- 60 -->\n      <g style=\"fill:#262626;\" transform=\"translate(22.81375 121.005504)scale(0.11 -0.11)\">\n       <use xlink:href=\"#DejaVuSans-36\"/>\n       <use x=\"63.623047\" xlink:href=\"#DejaVuSans-30\"/>\n      </g>\n     </g>\n    </g>\n    <g id=\"ytick_5\">\n     <g id=\"line2d_14\">\n      <path clip-path=\"url(#p199ea369b6)\" d=\"M 46.31125 51.083417 \nL 353.39125 51.083417 \n\" style=\"fill:none;stroke:#ffffff;stroke-linecap:round;\"/>\n     </g>\n     <g id=\"text_15\">\n      <!-- 80 -->\n      <g style=\"fill:#262626;\" transform=\"translate(22.81375 55.262558)scale(0.11 -0.11)\">\n       <use xlink:href=\"#DejaVuSans-38\"/>\n       <use x=\"63.623047\" xlink:href=\"#DejaVuSans-30\"/>\n      </g>\n     </g>\n    </g>\n    <g id=\"text_16\">\n     <!-- Bill -->\n     <g style=\"fill:#262626;\" transform=\"translate(16.318125 173.607187)rotate(-90)scale(0.12 -0.12)\">\n      <defs>\n       <path d=\"M 1259 2228 \nL 1259 519 \nL 2272 519 \nQ 2781 519 3026 730 \nQ 3272 941 3272 1375 \nQ 3272 1813 3026 2020 \nQ 2781 2228 2272 2228 \nL 1259 2228 \nz\nM 1259 4147 \nL 1259 2741 \nL 2194 2741 \nQ 2656 2741 2882 2914 \nQ 3109 3088 3109 3444 \nQ 3109 3797 2882 3972 \nQ 2656 4147 2194 4147 \nL 1259 4147 \nz\nM 628 4666 \nL 2241 4666 \nQ 2963 4666 3353 4366 \nQ 3744 4066 3744 3513 \nQ 3744 3084 3544 2831 \nQ 3344 2578 2956 2516 \nQ 3422 2416 3680 2098 \nQ 3938 1781 3938 1306 \nQ 3938 681 3513 340 \nQ 3088 0 2303 0 \nL 628 0 \nL 628 4666 \nz\n\" id=\"DejaVuSans-42\" transform=\"scale(0.015625)\"/>\n       <path d=\"M 603 4863 \nL 1178 4863 \nL 1178 0 \nL 603 0 \nL 603 4863 \nz\n\" id=\"DejaVuSans-6c\" transform=\"scale(0.015625)\"/>\n      </defs>\n      <use xlink:href=\"#DejaVuSans-42\"/>\n      <use x=\"68.603516\" xlink:href=\"#DejaVuSans-69\"/>\n      <use x=\"96.386719\" xlink:href=\"#DejaVuSans-6c\"/>\n      <use x=\"124.169922\" xlink:href=\"#DejaVuSans-6c\"/>\n     </g>\n    </g>\n   </g>\n   <g id=\"PathCollection_1\">\n    <defs>\n     <path d=\"M 0 3 \nC 0.795609 3 1.55874 2.683901 2.12132 2.12132 \nC 2.683901 1.55874 3 0.795609 3 0 \nC 3 -0.795609 2.683901 -1.55874 2.12132 -2.12132 \nC 1.55874 -2.683901 0.795609 -3 0 -3 \nC -0.795609 -3 -1.55874 -2.683901 -2.12132 -2.12132 \nC -2.683901 -1.55874 -3 -0.795609 -3 0 \nC -3 0.795609 -2.683901 1.55874 -2.12132 2.12132 \nC -1.55874 2.683901 -0.795609 3 0 3 \nz\n\" id=\"m295a32856f\" style=\"stroke:#4c72b0;stroke-opacity:0.8;\"/>\n    </defs>\n    <g clip-path=\"url(#p199ea369b6)\">\n     <use style=\"fill:#4c72b0;fill-opacity:0.8;stroke:#4c72b0;stroke-opacity:0.8;\" x=\"46.31125\" xlink:href=\"#m295a32856f\" y=\"281.18373\"/>\n     <use style=\"fill:#4c72b0;fill-opacity:0.8;stroke:#4c72b0;stroke-opacity:0.8;\" x=\"46.31125\" xlink:href=\"#m295a32856f\" y=\"307.480909\"/>\n     <use style=\"fill:#4c72b0;fill-opacity:0.8;stroke:#4c72b0;stroke-opacity:0.8;\" x=\"276.62125\" xlink:href=\"#m295a32856f\" y=\"208.866489\"/>\n     <use style=\"fill:#4c72b0;fill-opacity:0.8;stroke:#4c72b0;stroke-opacity:0.8;\" x=\"353.39125\" xlink:href=\"#m295a32856f\" y=\"172.707868\"/>\n     <use style=\"fill:#4c72b0;fill-opacity:0.8;stroke:#4c72b0;stroke-opacity:0.8;\" x=\"84.69625\" xlink:href=\"#m295a32856f\" y=\"274.609436\"/>\n     <use style=\"fill:#4c72b0;fill-opacity:0.8;stroke:#4c72b0;stroke-opacity:0.8;\" x=\"46.31125\" xlink:href=\"#m295a32856f\" y=\"264.747994\"/>\n     <use style=\"fill:#4c72b0;fill-opacity:0.8;stroke:#4c72b0;stroke-opacity:0.8;\" x=\"46.31125\" xlink:href=\"#m295a32856f\" y=\"294.33232\"/>\n     <use style=\"fill:#4c72b0;fill-opacity:0.8;stroke:#4c72b0;stroke-opacity:0.8;\" x=\"46.31125\" xlink:href=\"#m295a32856f\" y=\"297.619467\"/>\n     <use style=\"fill:#4c72b0;fill-opacity:0.8;stroke:#4c72b0;stroke-opacity:0.8;\" x=\"46.31125\" xlink:href=\"#m295a32856f\" y=\"291.045172\"/>\n     <use style=\"fill:#4c72b0;fill-opacity:0.8;stroke:#4c72b0;stroke-opacity:0.8;\" x=\"46.31125\" xlink:href=\"#m295a32856f\" y=\"304.193762\"/>\n     <use style=\"fill:#4c72b0;fill-opacity:0.8;stroke:#4c72b0;stroke-opacity:0.8;\" x=\"46.31125\" xlink:href=\"#m295a32856f\" y=\"251.599404\"/>\n     <use style=\"fill:#4c72b0;fill-opacity:0.8;stroke:#4c72b0;stroke-opacity:0.8;\" x=\"46.31125\" xlink:href=\"#m295a32856f\" y=\"248.312257\"/>\n     <use style=\"fill:#4c72b0;fill-opacity:0.8;stroke:#4c72b0;stroke-opacity:0.8;\" x=\"199.85125\" xlink:href=\"#m295a32856f\" y=\"281.18373\"/>\n     <use style=\"fill:#4c72b0;fill-opacity:0.8;stroke:#4c72b0;stroke-opacity:0.8;\" x=\"238.23625\" xlink:href=\"#m295a32856f\" y=\"202.292194\"/>\n     <use style=\"fill:#4c72b0;fill-opacity:0.8;stroke:#4c72b0;stroke-opacity:0.8;\" x=\"161.46625\" xlink:href=\"#m295a32856f\" y=\"238.450815\"/>\n     <use style=\"fill:#4c72b0;fill-opacity:0.8;stroke:#4c72b0;stroke-opacity:0.8;\" x=\"123.08125\" xlink:href=\"#m295a32856f\" y=\"202.292194\"/>\n     <use style=\"fill:#4c72b0;fill-opacity:0.8;stroke:#4c72b0;stroke-opacity:0.8;\" x=\"84.69625\" xlink:href=\"#m295a32856f\" y=\"136.549248\"/>\n     <use style=\"fill:#4c72b0;fill-opacity:0.8;stroke:#4c72b0;stroke-opacity:0.8;\" x=\"199.85125\" xlink:href=\"#m295a32856f\" y=\"100.390627\"/>\n     <use style=\"fill:#4c72b0;fill-opacity:0.8;stroke:#4c72b0;stroke-opacity:0.8;\" x=\"46.31125\" xlink:href=\"#m295a32856f\" y=\"64.232006\"/>\n     <use style=\"fill:#4c72b0;fill-opacity:0.8;stroke:#4c72b0;stroke-opacity:0.8;\" x=\"46.31125\" xlink:href=\"#m295a32856f\" y=\"238.450815\"/>\n     <use style=\"fill:#4c72b0;fill-opacity:0.8;stroke:#4c72b0;stroke-opacity:0.8;\" x=\"46.31125\" xlink:href=\"#m295a32856f\" y=\"274.609436\"/>\n     <use style=\"fill:#4c72b0;fill-opacity:0.8;stroke:#4c72b0;stroke-opacity:0.8;\" x=\"46.31125\" xlink:href=\"#m295a32856f\" y=\"21.499091\"/>\n    </g>\n   </g>\n   <g id=\"PolyCollection_1\">\n    <defs>\n     <path d=\"M 46.31125 -173.684773 \nL 46.31125 -89.155002 \nL 49.413068 -90.233311 \nL 52.514886 -91.362607 \nL 55.616705 -92.457316 \nL 58.718523 -93.736124 \nL 61.820341 -95.178425 \nL 64.922159 -96.347062 \nL 68.023977 -97.513491 \nL 71.125795 -98.604053 \nL 74.227614 -99.669704 \nL 77.329432 -100.646836 \nL 80.43125 -101.741371 \nL 83.533068 -103.021262 \nL 86.634886 -104.073212 \nL 89.736705 -105.022413 \nL 92.838523 -105.97294 \nL 95.940341 -106.924513 \nL 99.042159 -107.834788 \nL 102.143977 -108.81853 \nL 105.245795 -109.771051 \nL 108.347614 -110.723572 \nL 111.449432 -111.727768 \nL 114.55125 -112.623868 \nL 117.653068 -113.106308 \nL 120.754886 -114.007326 \nL 123.856705 -114.878968 \nL 126.958523 -115.614144 \nL 130.060341 -116.629527 \nL 133.162159 -117.106521 \nL 136.263977 -117.76014 \nL 139.365795 -118.420589 \nL 142.467614 -119.241577 \nL 145.569432 -119.960927 \nL 148.67125 -120.548907 \nL 151.773068 -120.955742 \nL 154.874886 -121.500154 \nL 157.976705 -122.234075 \nL 161.078523 -122.632899 \nL 164.180341 -123.418338 \nL 167.282159 -123.930059 \nL 170.383977 -123.830659 \nL 173.485795 -124.199684 \nL 176.587614 -124.529411 \nL 179.689432 -124.872358 \nL 182.79125 -125.29574 \nL 185.893068 -125.436688 \nL 188.994886 -125.597867 \nL 192.096705 -125.756175 \nL 195.198523 -125.914649 \nL 198.300341 -126.176497 \nL 201.402159 -126.514643 \nL 204.503977 -126.375179 \nL 207.605795 -126.530274 \nL 210.707614 -126.6758 \nL 213.809432 -126.830405 \nL 216.91125 -126.98501 \nL 220.013068 -126.729896 \nL 223.114886 -126.157641 \nL 226.216705 -125.72757 \nL 229.318523 -125.328022 \nL 232.420341 -125.401078 \nL 235.522159 -125.447159 \nL 238.623977 -125.413723 \nL 241.725795 -125.099367 \nL 244.827614 -125.481878 \nL 247.929432 -125.66797 \nL 251.03125 -125.086804 \nL 254.133068 -125.126933 \nL 257.234886 -125.311098 \nL 260.336705 -125.495262 \nL 263.438523 -125.653751 \nL 266.540341 -125.232099 \nL 269.642159 -124.810446 \nL 272.743977 -124.388794 \nL 275.845795 -124.208156 \nL 278.947614 -124.485305 \nL 282.049432 -124.762453 \nL 285.15125 -124.615212 \nL 288.253068 -123.847799 \nL 291.354886 -123.879914 \nL 294.456705 -124.350548 \nL 297.558523 -124.821182 \nL 300.660341 -125.291816 \nL 303.762159 -125.613687 \nL 306.863977 -125.438384 \nL 309.965795 -125.263082 \nL 313.067614 -125.096097 \nL 316.169432 -124.929313 \nL 319.27125 -124.762529 \nL 322.373068 -124.595745 \nL 325.474886 -124.389989 \nL 328.576705 -123.990875 \nL 331.678523 -123.508375 \nL 334.780341 -123.025876 \nL 337.882159 -122.543376 \nL 340.983977 -122.060877 \nL 344.085795 -121.578377 \nL 347.187614 -121.095877 \nL 350.289432 -120.613378 \nL 353.39125 -120.130878 \nL 353.39125 -282.675379 \nL 353.39125 -282.675379 \nL 350.289432 -280.737288 \nL 347.187614 -278.799196 \nL 344.085795 -276.861105 \nL 340.983977 -274.923013 \nL 337.882159 -272.984921 \nL 334.780341 -271.04683 \nL 331.678523 -269.108738 \nL 328.576705 -267.170646 \nL 325.474886 -265.232555 \nL 322.373068 -263.294463 \nL 319.27125 -261.356372 \nL 316.169432 -259.41828 \nL 313.067614 -257.480188 \nL 309.965795 -255.542097 \nL 306.863977 -253.604005 \nL 303.762159 -251.665913 \nL 300.660341 -249.727822 \nL 297.558523 -247.78973 \nL 294.456705 -245.851639 \nL 291.354886 -243.913547 \nL 288.253068 -242.320163 \nL 285.15125 -241.47565 \nL 282.049432 -240.631136 \nL 278.947614 -239.786622 \nL 275.845795 -238.942108 \nL 272.743977 -237.64438 \nL 269.642159 -235.851927 \nL 266.540341 -234.049424 \nL 263.438523 -232.199653 \nL 260.336705 -230.10302 \nL 257.234886 -228.006386 \nL 254.133068 -225.909753 \nL 251.03125 -224.393821 \nL 247.929432 -223.119934 \nL 244.827614 -221.488984 \nL 241.725795 -219.707576 \nL 238.623977 -218.835492 \nL 235.522159 -217.553457 \nL 232.420341 -215.489417 \nL 229.318523 -213.425377 \nL 226.216705 -211.712953 \nL 223.114886 -210.213677 \nL 220.013068 -208.813921 \nL 216.91125 -207.414166 \nL 213.809432 -206.01441 \nL 210.707614 -204.614484 \nL 207.605795 -203.290209 \nL 204.503977 -202.671677 \nL 201.402159 -201.264562 \nL 198.300341 -199.429464 \nL 195.198523 -197.558489 \nL 192.096705 -196.120322 \nL 188.994886 -194.692121 \nL 185.893068 -192.964847 \nL 182.79125 -191.87494 \nL 179.689432 -190.680161 \nL 176.587614 -190.134861 \nL 173.485795 -190.027456 \nL 170.383977 -188.460545 \nL 167.282159 -187.492699 \nL 164.180341 -186.521834 \nL 161.078523 -184.832009 \nL 157.976705 -184.187708 \nL 154.874886 -183.54268 \nL 151.773068 -183.067051 \nL 148.67125 -182.785903 \nL 145.569432 -182.26335 \nL 142.467614 -181.706555 \nL 139.365795 -181.229015 \nL 136.263977 -180.157749 \nL 133.162159 -179.772677 \nL 130.060341 -178.57371 \nL 126.958523 -178.544751 \nL 123.856705 -177.436317 \nL 120.754886 -176.688565 \nL 117.653068 -175.91455 \nL 114.55125 -175.6521 \nL 111.449432 -175.69289 \nL 108.347614 -175.233794 \nL 105.245795 -175.166502 \nL 102.143977 -173.577506 \nL 99.042159 -172.677895 \nL 95.940341 -173.476395 \nL 92.838523 -173.550724 \nL 89.736705 -173.620271 \nL 86.634886 -173.674624 \nL 83.533068 -173.779158 \nL 80.43125 -174.037062 \nL 77.329432 -174.294967 \nL 74.227614 -174.445136 \nL 71.125795 -174.382833 \nL 68.023977 -174.32053 \nL 64.922159 -174.258226 \nL 61.820341 -174.170425 \nL 58.718523 -174.090579 \nL 55.616705 -174.023056 \nL 52.514886 -173.918978 \nL 49.413068 -173.432231 \nL 46.31125 -173.684773 \nz\n\" id=\"mf1276db51d\" style=\"stroke:#ffffff;stroke-opacity:0.15;\"/>\n    </defs>\n    <g clip-path=\"url(#p199ea369b6)\">\n     <use style=\"fill:#4c72b0;fill-opacity:0.15;stroke:#ffffff;stroke-opacity:0.15;\" x=\"0\" xlink:href=\"#mf1276db51d\" y=\"364.739687\"/>\n    </g>\n   </g>\n   <g id=\"line2d_15\">\n    <path clip-path=\"url(#p199ea369b6)\" d=\"M 46.31125 237.67781 \nL 49.413068 237.030721 \nL 52.514886 236.383631 \nL 55.616705 235.736542 \nL 58.718523 235.089453 \nL 61.820341 234.442363 \nL 64.922159 233.795274 \nL 68.023977 233.148184 \nL 71.125795 232.501095 \nL 74.227614 231.854006 \nL 77.329432 231.206916 \nL 80.43125 230.559827 \nL 83.533068 229.912738 \nL 86.634886 229.265648 \nL 89.736705 228.618559 \nL 92.838523 227.971469 \nL 95.940341 227.32438 \nL 99.042159 226.677291 \nL 102.143977 226.030201 \nL 105.245795 225.383112 \nL 108.347614 224.736022 \nL 111.449432 224.088933 \nL 114.55125 223.441844 \nL 117.653068 222.794754 \nL 120.754886 222.147665 \nL 123.856705 221.500576 \nL 126.958523 220.853486 \nL 130.060341 220.206397 \nL 133.162159 219.559307 \nL 136.263977 218.912218 \nL 139.365795 218.265129 \nL 142.467614 217.618039 \nL 145.569432 216.97095 \nL 148.67125 216.323861 \nL 151.773068 215.676771 \nL 154.874886 215.029682 \nL 157.976705 214.382592 \nL 161.078523 213.735503 \nL 164.180341 213.088414 \nL 167.282159 212.441324 \nL 170.383977 211.794235 \nL 173.485795 211.147146 \nL 176.587614 210.500056 \nL 179.689432 209.852967 \nL 182.79125 209.205877 \nL 185.893068 208.558788 \nL 188.994886 207.911699 \nL 192.096705 207.264609 \nL 195.198523 206.61752 \nL 198.300341 205.970431 \nL 201.402159 205.323341 \nL 204.503977 204.676252 \nL 207.605795 204.029162 \nL 210.707614 203.382073 \nL 213.809432 202.734984 \nL 216.91125 202.087894 \nL 220.013068 201.440805 \nL 223.114886 200.793715 \nL 226.216705 200.146626 \nL 229.318523 199.499537 \nL 232.420341 198.852447 \nL 235.522159 198.205358 \nL 238.623977 197.558269 \nL 241.725795 196.911179 \nL 244.827614 196.26409 \nL 247.929432 195.617 \nL 251.03125 194.969911 \nL 254.133068 194.322822 \nL 257.234886 193.675732 \nL 260.336705 193.028643 \nL 263.438523 192.381554 \nL 266.540341 191.734464 \nL 269.642159 191.087375 \nL 272.743977 190.440285 \nL 275.845795 189.793196 \nL 278.947614 189.146107 \nL 282.049432 188.499017 \nL 285.15125 187.851928 \nL 288.253068 187.204839 \nL 291.354886 186.557749 \nL 294.456705 185.91066 \nL 297.558523 185.26357 \nL 300.660341 184.616481 \nL 303.762159 183.969392 \nL 306.863977 183.322302 \nL 309.965795 182.675213 \nL 313.067614 182.028123 \nL 316.169432 181.381034 \nL 319.27125 180.733945 \nL 322.373068 180.086855 \nL 325.474886 179.439766 \nL 328.576705 178.792677 \nL 331.678523 178.145587 \nL 334.780341 177.498498 \nL 337.882159 176.851408 \nL 340.983977 176.204319 \nL 344.085795 175.55723 \nL 347.187614 174.91014 \nL 350.289432 174.263051 \nL 353.39125 173.615962 \n\" style=\"fill:none;stroke:#4c72b0;stroke-linecap:round;stroke-width:2.25;\"/>\n   </g>\n   <g id=\"patch_3\">\n    <path d=\"M 46.31125 321.78 \nL 46.31125 7.2 \n\" style=\"fill:none;stroke:#ffffff;stroke-linecap:square;stroke-linejoin:miter;stroke-width:1.25;\"/>\n   </g>\n   <g id=\"patch_4\">\n    <path d=\"M 46.31125 321.78 \nL 353.39125 321.78 \n\" style=\"fill:none;stroke:#ffffff;stroke-linecap:square;stroke-linejoin:miter;stroke-width:1.25;\"/>\n   </g>\n  </g>\n </g>\n <defs>\n  <clipPath id=\"p199ea369b6\">\n   <rect height=\"314.58\" width=\"307.08\" x=\"46.31125\" y=\"7.2\"/>\n  </clipPath>\n </defs>\n</svg>\n",
      "image/png": "[encoded data removed]"
     },
     "metadata": {}
    }
   ],
   "metadata": {}
  },
  {
   "cell_type": "markdown",
   "source": [
    "## So after plotting the bills against the tips we found that the more the bill the more the tip."
   ],
   "metadata": {}
  },
  {
   "cell_type": "markdown",
   "source": [
    "# To sum up , In conclusion:\n",
    "\n",
    "## We can make special discounts on total bill when it exceed a certain number as to make peaple paying tips more (tips are taken by the restaurant) and buy more meals ."
   ],
   "metadata": {}
  }
 ],
 "metadata": {
  "orig_nbformat": 4,
  "language_info": {
   "name": "python",
   "version": "3.9.6",
   "mimetype": "text/x-python",
   "codemirror_mode": {
    "name": "ipython",
    "version": 3
   },
   "pygments_lexer": "ipython3",
   "nbconvert_exporter": "python",
   "file_extension": ".py"
  },
  "kernelspec": {
   "name": "python3",
   "display_name": "Python 3.9.6 64-bit ('.venv': poetry)"
  },
  "interpreter": {
   "hash": "72a4cab6f004235ae029dcd13e0dee9f8ea130fd7ff97a989fd09cf7c9364afb"
  }
 },
 "nbformat": 4,
 "nbformat_minor": 2
}